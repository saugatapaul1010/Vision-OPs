{
 "cells": [
  {
   "cell_type": "markdown",
   "id": "6c8b3f48",
   "metadata": {},
   "source": [
    "## 1. Setup"
   ]
  },
  {
   "cell_type": "code",
   "execution_count": null,
   "id": "c540257c",
   "metadata": {},
   "outputs": [],
   "source": [
    "import os\n",
    "\n",
    "import numpy as np\n",
    "import pandas as pd"
   ]
  },
  {
   "cell_type": "code",
   "execution_count": null,
   "id": "9845cc28",
   "metadata": {},
   "outputs": [],
   "source": [
    "from deepchecks.tabular import Dataset\n",
    "from deepchecks.tabular import Suite\n",
    "from deepchecks.tabular.checks import (DataDuplicates, DatasetsSizeComparison, TrainTestSamplesMix, \n",
    "                                       IndexTrainTestLeakage, TrainTestFeatureDrift)"
   ]
  },
  {
   "cell_type": "code",
   "execution_count": null,
   "id": "49f513fc",
   "metadata": {},
   "outputs": [],
   "source": [
    "DATA_PATH = '../data/'\n",
    "RAW_DATA_PATH, PREPARED_DATA_PATH, NEW_DATA_PATH = [os.path.join(DATA_PATH, fdir) for fdir in ['raw', 'prepared', 'new']]"
   ]
  },
  {
   "cell_type": "markdown",
   "id": "daede240",
   "metadata": {},
   "source": [
    "## 2. Single Dataset Checks "
   ]
  },
  {
   "cell_type": "code",
   "execution_count": null,
   "id": "b2ad0cd3",
   "metadata": {},
   "outputs": [],
   "source": [
    "bbox_df = pd.read_csv(os.path.join(RAW_DATA_PATH, 'bboxes/bounding_boxes.csv'))"
   ]
  },
  {
   "cell_type": "code",
   "execution_count": null,
   "id": "e312d16e",
   "metadata": {},
   "outputs": [],
   "source": [
    "bbox_ds = Dataset(bbox_df, cat_features=['label_name'])"
   ]
  },
  {
   "cell_type": "code",
   "execution_count": null,
   "id": "5080ea11",
   "metadata": {},
   "outputs": [],
   "source": [
    "# Run the check and show result\n",
    "data_duplicates_check_result = DataDuplicates().run(bbox_ds)\n",
    "data_duplicates_check_result.value"
   ]
  },
  {
   "cell_type": "markdown",
   "id": "8aeb97cd",
   "metadata": {},
   "source": [
    "## 3. Train Test Dataset Checks"
   ]
  },
  {
   "cell_type": "code",
   "execution_count": null,
   "id": "eefd0afb",
   "metadata": {},
   "outputs": [],
   "source": [
    "def check_two_datasets(ds1, ds2, suite_name, checks):\n",
    "    \"\"\"Create a custom validation suite and displays check result.\n",
    "    \n",
    "    Parameters:\n",
    "    ds1 -- a Dataset object\n",
    "    ds2 -- a Dataset object\n",
    "    checks -- a list containing check objects for creating a custom suite\n",
    "    suite_name -- a name for the created custom suite.\n",
    "    \"\"\"\n",
    "    custom_suite = Suite(suite_name, *checks)\n",
    "    print(custom_suite)\n",
    "    custom_suite_result = custom_suite.run(ds1, ds2)\n",
    "    custom_suite_result.show_in_iframe()    "
   ]
  },
  {
   "cell_type": "code",
   "execution_count": null,
   "id": "8af5fb4d",
   "metadata": {},
   "outputs": [],
   "source": [
    "train_df = pd.read_csv(os.path.join(PREPARED_DATA_PATH, 'train.csv'))\n",
    "test_df = pd.read_csv(os.path.join(PREPARED_DATA_PATH, 'test.csv'))"
   ]
  },
  {
   "cell_type": "code",
   "execution_count": null,
   "id": "d7b69884",
   "metadata": {},
   "outputs": [],
   "source": [
    "tt_cat_features=['Source', 'License']\n",
    "\n",
    "train_ds = Dataset(train_df, cat_features=tt_cat_features, index_name='Name')\n",
    "test_ds = Dataset(test_df, cat_features=tt_cat_features, index_name='Name')"
   ]
  },
  {
   "cell_type": "code",
   "execution_count": null,
   "id": "3cbcebb5",
   "metadata": {},
   "outputs": [],
   "source": [
    "dsc_check = (DatasetsSizeComparison()\n",
    "                 .add_condition_test_train_size_ratio_greater_than(0.25)\n",
    "                 .add_condition_train_dataset_greater_or_equal_test())\n",
    "ttsm_check = (TrainTestSamplesMix()\n",
    "                  .add_condition_duplicates_ratio_less_or_equal(0))\n",
    "ittl_check = IndexTrainTestLeakage().add_condition_ratio_less_or_equal(0)\n",
    "ttfd_info_check = TrainTestFeatureDrift(ignore_columns=['Name', 'Source', 'License'])"
   ]
  },
  {
   "cell_type": "markdown",
   "id": "52bf01a9",
   "metadata": {},
   "source": [
    "### 3.1. Train Test Validation"
   ]
  },
  {
   "cell_type": "code",
   "execution_count": null,
   "id": "3412c2f7",
   "metadata": {},
   "outputs": [],
   "source": [
    "# Create a custom train test validation suite and display result\n",
    "check_two_datasets(train_ds, test_ds, 'Train Test Validation Suite', \n",
    "                   checks=[dsc_check, ttsm_check, ittl_check, ttfd_info_check])"
   ]
  },
  {
   "cell_type": "markdown",
   "id": "518f539e",
   "metadata": {},
   "source": [
    "### 3.2. Author Group Leakage"
   ]
  },
  {
   "cell_type": "code",
   "execution_count": null,
   "id": "0160f7fb",
   "metadata": {
    "scrolled": true
   },
   "outputs": [],
   "source": [
    "author_train_ds, author_test_ds = [Dataset(df['Author'], cat_features=['Author']) for df in (train_df, test_df)]\n",
    "\n",
    "# Detect authors in both the training and test data and display result\n",
    "check_two_datasets(author_train_ds, author_test_ds, \n",
    "                   'Train Test Author Group Leakage Suite', \n",
    "                   checks=[ttsm_check])"
   ]
  },
  {
   "cell_type": "markdown",
   "id": "84b8ccf6",
   "metadata": {},
   "source": [
    "## 4. New Dataset Checks "
   ]
  },
  {
   "cell_type": "markdown",
   "id": "beb94121",
   "metadata": {},
   "source": [
    "### 4.1. New Info Dataset Check"
   ]
  },
  {
   "cell_type": "code",
   "execution_count": null,
   "id": "5e25a792",
   "metadata": {},
   "outputs": [],
   "source": [
    "info_df = pd.read_csv(os.path.join(RAW_DATA_PATH, 'image_info.csv'))\n",
    "new_info_df = pd.read_csv(os.path.join(NEW_DATA_PATH, 'new_image_info.csv'))"
   ]
  },
  {
   "cell_type": "code",
   "execution_count": null,
   "id": "2f50d502",
   "metadata": {},
   "outputs": [],
   "source": [
    "info_ds = Dataset(info_df, cat_features=tt_cat_features, index_name='Name')\n",
    "new_info_ds = Dataset(new_info_df, cat_features=tt_cat_features, index_name='Name')"
   ]
  },
  {
   "cell_type": "code",
   "execution_count": null,
   "id": "d104cb6b",
   "metadata": {},
   "outputs": [],
   "source": [
    "# Create a custom new info dataset validation suite and display result\n",
    "check_two_datasets(info_ds, new_info_ds, 'New Info Dataset Validation Suite', \n",
    "                   checks=[ttsm_check, ittl_check, ttfd_info_check])"
   ]
  },
  {
   "cell_type": "markdown",
   "id": "e086c49a",
   "metadata": {},
   "source": [
    "### 4.2. New Bbox Dataset Check"
   ]
  },
  {
   "cell_type": "code",
   "execution_count": null,
   "id": "3825b158",
   "metadata": {},
   "outputs": [],
   "source": [
    "new_bbox_df = pd.read_csv(os.path.join(NEW_DATA_PATH, 'bboxes/new_bounding_boxes.csv'))"
   ]
  },
  {
   "cell_type": "code",
   "execution_count": null,
   "id": "124bbf22",
   "metadata": {},
   "outputs": [],
   "source": [
    "new_bbox_ds = Dataset(new_bbox_df, cat_features=['label_name'])"
   ]
  },
  {
   "cell_type": "code",
   "execution_count": null,
   "id": "491515ba",
   "metadata": {},
   "outputs": [],
   "source": [
    "# Create a custom new bbox dataset validation suite and display result\n",
    "check_two_datasets(bbox_ds, new_bbox_ds, 'New Bbox Dataset Validation Suite', \n",
    "                   checks=[ttsm_check, TrainTestFeatureDrift(ignore_columns=['label_name', 'image_name'])])"
   ]
  }
 ],
 "metadata": {
  "kernelspec": {
   "display_name": "Python 3.9.13 ('env': venv)",
   "language": "python",
   "name": "python3"
  },
  "language_info": {
   "codemirror_mode": {
    "name": "ipython",
    "version": 3
   },
   "file_extension": ".py",
   "mimetype": "text/x-python",
   "name": "python",
   "nbconvert_exporter": "python",
   "pygments_lexer": "ipython3",
   "version": "3.9.13"
  },
  "vscode": {
   "interpreter": {
    "hash": "b2ab1ef63cc1d0e1338c1d8132759d9e4f4760c8169058413a208056ba3b8064"
   }
  }
 },
 "nbformat": 4,
 "nbformat_minor": 5
}
