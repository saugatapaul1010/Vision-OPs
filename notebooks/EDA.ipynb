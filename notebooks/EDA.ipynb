{
 "cells": [
  {
   "cell_type": "markdown",
   "id": "fa2d7289",
   "metadata": {},
   "source": [
    "## 1. Setup"
   ]
  },
  {
   "cell_type": "code",
   "execution_count": 1,
   "id": "df3f1918",
   "metadata": {},
   "outputs": [],
   "source": [
    "import os\n",
    "\n",
    "import numpy as np\n",
    "import pandas as pd\n",
    "\n",
    "from sklearn.model_selection import StratifiedGroupKFold \n",
    "\n",
    "import cv2\n",
    "import matplotlib.pyplot as plt\n",
    "import seaborn as sns\n",
    "%matplotlib inline"
   ]
  },
  {
   "cell_type": "code",
   "execution_count": 2,
   "id": "75a7f427",
   "metadata": {},
   "outputs": [],
   "source": [
    "import warnings  \n",
    "warnings.filterwarnings('ignore')"
   ]
  },
  {
   "cell_type": "code",
   "execution_count": 3,
   "id": "3aa5a8fd",
   "metadata": {},
   "outputs": [],
   "source": [
    "DATA_PATH = '../data/'\n",
    "RAW_DATA_PATH = os.path.join(DATA_PATH, 'raw')\n",
    "IMG_PATH = os.path.join(RAW_DATA_PATH, 'images')"
   ]
  },
  {
   "cell_type": "markdown",
   "id": "9004f8dc",
   "metadata": {},
   "source": [
    "## 2. Load datasets"
   ]
  },
  {
   "cell_type": "code",
   "execution_count": 4,
   "id": "ac6674cb",
   "metadata": {},
   "outputs": [
    {
     "data": {
      "text/html": [
       "<div>\n",
       "<style scoped>\n",
       "    .dataframe tbody tr th:only-of-type {\n",
       "        vertical-align: middle;\n",
       "    }\n",
       "\n",
       "    .dataframe tbody tr th {\n",
       "        vertical-align: top;\n",
       "    }\n",
       "\n",
       "    .dataframe thead th {\n",
       "        text-align: right;\n",
       "    }\n",
       "</style>\n",
       "<table border=\"1\" class=\"dataframe\">\n",
       "  <thead>\n",
       "    <tr style=\"text-align: right;\">\n",
       "      <th></th>\n",
       "      <th>Name</th>\n",
       "      <th>Author</th>\n",
       "      <th>Number_HSparrows</th>\n",
       "      <th>Source</th>\n",
       "      <th>License</th>\n",
       "    </tr>\n",
       "  </thead>\n",
       "  <tbody>\n",
       "    <tr>\n",
       "      <th>0</th>\n",
       "      <td>51028450922_6e5c22a557_w.jpg</td>\n",
       "      <td>John Freshney</td>\n",
       "      <td>1</td>\n",
       "      <td>Flickr</td>\n",
       "      <td>Attribution 2.0 Generic (CC BY 2.0)</td>\n",
       "    </tr>\n",
       "    <tr>\n",
       "      <th>1</th>\n",
       "      <td>50582637617_025db80280_w.jpg</td>\n",
       "      <td>I Am birdsaspoetry.com</td>\n",
       "      <td>1</td>\n",
       "      <td>Flickr</td>\n",
       "      <td>Attribution 2.0 Generic (CC BY 2.0)</td>\n",
       "    </tr>\n",
       "    <tr>\n",
       "      <th>2</th>\n",
       "      <td>51629116862_45cc557dcd_w.jpg</td>\n",
       "      <td>pete beard</td>\n",
       "      <td>1</td>\n",
       "      <td>Flickr</td>\n",
       "      <td>Attribution 2.0 Generic (CC BY 2.0)</td>\n",
       "    </tr>\n",
       "    <tr>\n",
       "      <th>3</th>\n",
       "      <td>51326420290_5596ceb008_w.jpg</td>\n",
       "      <td>pete beard</td>\n",
       "      <td>1</td>\n",
       "      <td>Flickr</td>\n",
       "      <td>Attribution 2.0 Generic (CC BY 2.0)</td>\n",
       "    </tr>\n",
       "    <tr>\n",
       "      <th>4</th>\n",
       "      <td>51571836216_f2f22feed1_e.jpg</td>\n",
       "      <td>611catbirds, too</td>\n",
       "      <td>2</td>\n",
       "      <td>Flickr</td>\n",
       "      <td>Attribution 2.0 Generic (CC BY 2.0)</td>\n",
       "    </tr>\n",
       "  </tbody>\n",
       "</table>\n",
       "</div>"
      ],
      "text/plain": [
       "                           Name                  Author  Number_HSparrows  \\\n",
       "0  51028450922_6e5c22a557_w.jpg           John Freshney                 1   \n",
       "1  50582637617_025db80280_w.jpg  I Am birdsaspoetry.com                 1   \n",
       "2  51629116862_45cc557dcd_w.jpg              pete beard                 1   \n",
       "3  51326420290_5596ceb008_w.jpg              pete beard                 1   \n",
       "4  51571836216_f2f22feed1_e.jpg        611catbirds, too                 2   \n",
       "\n",
       "   Source                              License  \n",
       "0  Flickr  Attribution 2.0 Generic (CC BY 2.0)  \n",
       "1  Flickr  Attribution 2.0 Generic (CC BY 2.0)  \n",
       "2  Flickr  Attribution 2.0 Generic (CC BY 2.0)  \n",
       "3  Flickr  Attribution 2.0 Generic (CC BY 2.0)  \n",
       "4  Flickr  Attribution 2.0 Generic (CC BY 2.0)  "
      ]
     },
     "execution_count": 4,
     "metadata": {},
     "output_type": "execute_result"
    }
   ],
   "source": [
    "# Load a dataset with image information\n",
    "hs_img_info_df = pd.read_csv(os.path.join(RAW_DATA_PATH, 'image_info.csv'))\n",
    "\n",
    "hs_img_info_df.head()"
   ]
  },
  {
   "cell_type": "code",
   "execution_count": 5,
   "id": "ad11dc1e",
   "metadata": {},
   "outputs": [
    {
     "name": "stdout",
     "output_type": "stream",
     "text": [
      "<class 'pandas.core.frame.DataFrame'>\n",
      "RangeIndex: 500 entries, 0 to 499\n",
      "Data columns (total 5 columns):\n",
      " #   Column            Non-Null Count  Dtype \n",
      "---  ------            --------------  ----- \n",
      " 0   Name              500 non-null    object\n",
      " 1   Author            500 non-null    object\n",
      " 2   Number_HSparrows  500 non-null    int64 \n",
      " 3   Source            500 non-null    object\n",
      " 4   License           500 non-null    object\n",
      "dtypes: int64(1), object(4)\n",
      "memory usage: 19.7+ KB\n"
     ]
    }
   ],
   "source": [
    "hs_img_info_df.info()"
   ]
  },
  {
   "cell_type": "code",
   "execution_count": 6,
   "id": "7d60572f",
   "metadata": {},
   "outputs": [
    {
     "data": {
      "text/plain": [
       "0"
      ]
     },
     "execution_count": 6,
     "metadata": {},
     "output_type": "execute_result"
    }
   ],
   "source": [
    "hs_img_info_df.duplicated().sum()"
   ]
  },
  {
   "cell_type": "code",
   "execution_count": 7,
   "id": "24cd390c",
   "metadata": {},
   "outputs": [
    {
     "data": {
      "text/html": [
       "<div>\n",
       "<style scoped>\n",
       "    .dataframe tbody tr th:only-of-type {\n",
       "        vertical-align: middle;\n",
       "    }\n",
       "\n",
       "    .dataframe tbody tr th {\n",
       "        vertical-align: top;\n",
       "    }\n",
       "\n",
       "    .dataframe thead th {\n",
       "        text-align: right;\n",
       "    }\n",
       "</style>\n",
       "<table border=\"1\" class=\"dataframe\">\n",
       "  <thead>\n",
       "    <tr style=\"text-align: right;\">\n",
       "      <th></th>\n",
       "      <th>label_name</th>\n",
       "      <th>bbox_x</th>\n",
       "      <th>bbox_y</th>\n",
       "      <th>bbox_width</th>\n",
       "      <th>bbox_height</th>\n",
       "      <th>image_name</th>\n",
       "      <th>image_width</th>\n",
       "      <th>image_height</th>\n",
       "    </tr>\n",
       "  </thead>\n",
       "  <tbody>\n",
       "    <tr>\n",
       "      <th>0</th>\n",
       "      <td>house_sparrow</td>\n",
       "      <td>185</td>\n",
       "      <td>75</td>\n",
       "      <td>149</td>\n",
       "      <td>166</td>\n",
       "      <td>10392264536_04a4ae14ee_w.jpg</td>\n",
       "      <td>400</td>\n",
       "      <td>267</td>\n",
       "    </tr>\n",
       "    <tr>\n",
       "      <th>1</th>\n",
       "      <td>house_sparrow</td>\n",
       "      <td>5</td>\n",
       "      <td>96</td>\n",
       "      <td>230</td>\n",
       "      <td>181</td>\n",
       "      <td>10455990684_02e02ca64d_w.jpg</td>\n",
       "      <td>400</td>\n",
       "      <td>300</td>\n",
       "    </tr>\n",
       "    <tr>\n",
       "      <th>2</th>\n",
       "      <td>house_sparrow</td>\n",
       "      <td>231</td>\n",
       "      <td>75</td>\n",
       "      <td>165</td>\n",
       "      <td>217</td>\n",
       "      <td>10455990684_02e02ca64d_w.jpg</td>\n",
       "      <td>400</td>\n",
       "      <td>300</td>\n",
       "    </tr>\n",
       "    <tr>\n",
       "      <th>3</th>\n",
       "      <td>house_sparrow</td>\n",
       "      <td>530</td>\n",
       "      <td>100</td>\n",
       "      <td>174</td>\n",
       "      <td>133</td>\n",
       "      <td>10736475654_56604258c5_c.jpg</td>\n",
       "      <td>800</td>\n",
       "      <td>600</td>\n",
       "    </tr>\n",
       "    <tr>\n",
       "      <th>4</th>\n",
       "      <td>house_sparrow</td>\n",
       "      <td>378</td>\n",
       "      <td>237</td>\n",
       "      <td>268</td>\n",
       "      <td>147</td>\n",
       "      <td>10736475654_56604258c5_c.jpg</td>\n",
       "      <td>800</td>\n",
       "      <td>600</td>\n",
       "    </tr>\n",
       "  </tbody>\n",
       "</table>\n",
       "</div>"
      ],
      "text/plain": [
       "      label_name  bbox_x  bbox_y  bbox_width  bbox_height  \\\n",
       "0  house_sparrow     185      75         149          166   \n",
       "1  house_sparrow       5      96         230          181   \n",
       "2  house_sparrow     231      75         165          217   \n",
       "3  house_sparrow     530     100         174          133   \n",
       "4  house_sparrow     378     237         268          147   \n",
       "\n",
       "                     image_name  image_width  image_height  \n",
       "0  10392264536_04a4ae14ee_w.jpg          400           267  \n",
       "1  10455990684_02e02ca64d_w.jpg          400           300  \n",
       "2  10455990684_02e02ca64d_w.jpg          400           300  \n",
       "3  10736475654_56604258c5_c.jpg          800           600  \n",
       "4  10736475654_56604258c5_c.jpg          800           600  "
      ]
     },
     "execution_count": 7,
     "metadata": {},
     "output_type": "execute_result"
    }
   ],
   "source": [
    "# Load a bounding box dataset\n",
    "hs_img_bbox_df = pd.read_csv(os.path.join(RAW_DATA_PATH, 'bboxes/bounding_boxes.csv'))\n",
    "\n",
    "hs_img_bbox_df.head()"
   ]
  },
  {
   "cell_type": "code",
   "execution_count": 8,
   "id": "2dd51f3a",
   "metadata": {},
   "outputs": [
    {
     "name": "stdout",
     "output_type": "stream",
     "text": [
      "<class 'pandas.core.frame.DataFrame'>\n",
      "RangeIndex: 1210 entries, 0 to 1209\n",
      "Data columns (total 8 columns):\n",
      " #   Column        Non-Null Count  Dtype \n",
      "---  ------        --------------  ----- \n",
      " 0   label_name    1210 non-null   object\n",
      " 1   bbox_x        1210 non-null   int64 \n",
      " 2   bbox_y        1210 non-null   int64 \n",
      " 3   bbox_width    1210 non-null   int64 \n",
      " 4   bbox_height   1210 non-null   int64 \n",
      " 5   image_name    1210 non-null   object\n",
      " 6   image_width   1210 non-null   int64 \n",
      " 7   image_height  1210 non-null   int64 \n",
      "dtypes: int64(6), object(2)\n",
      "memory usage: 75.8+ KB\n"
     ]
    }
   ],
   "source": [
    "hs_img_bbox_df.info()"
   ]
  },
  {
   "cell_type": "code",
   "execution_count": 9,
   "id": "3e8c1e1c",
   "metadata": {},
   "outputs": [
    {
     "data": {
      "text/plain": [
       "0"
      ]
     },
     "execution_count": 9,
     "metadata": {},
     "output_type": "execute_result"
    }
   ],
   "source": [
    "hs_img_bbox_df.duplicated().sum()"
   ]
  },
  {
   "cell_type": "markdown",
   "id": "182f2a4b",
   "metadata": {},
   "source": [
    "## 3. Check the datasets"
   ]
  },
  {
   "cell_type": "code",
   "execution_count": 10,
   "id": "1562768c",
   "metadata": {},
   "outputs": [],
   "source": [
    "def compare_two_img_lists(img_l1, img_l2):\n",
    "    \"\"\"Print non-matching image names, if any.\"\"\"\n",
    "    img_l1 = sorted(img_l1)\n",
    "    img_l2 = sorted(img_l2)\n",
    "    \n",
    "    if img_l1 == img_l2:\n",
    "        print(f\"Equal!: {len(img_l1)} images\")\n",
    "    elif (len(set(img_l1)) != len(img_l1)) or (len(set(img_l2)) != len(img_l2)):\n",
    "        print(\"Duplicates!\")\n",
    "    else:\n",
    "        not_match = list(set(img_l1) ^ set(img_l2))\n",
    "        print(f\"Not Equal! {len(not_match)} image(s)\")\n",
    "        print(not_match)"
   ]
  },
  {
   "cell_type": "code",
   "execution_count": 11,
   "id": "e0ebc405",
   "metadata": {},
   "outputs": [
    {
     "name": "stdout",
     "output_type": "stream",
     "text": [
      "Equal!: 500 images\n"
     ]
    }
   ],
   "source": [
    "# Check if all the images have information\n",
    "hs_img_names = os.listdir(IMG_PATH)\n",
    "df_img_names = hs_img_info_df.Name.to_list()\n",
    "\n",
    "compare_two_img_lists(hs_img_names, df_img_names)"
   ]
  },
  {
   "cell_type": "code",
   "execution_count": 12,
   "id": "275d41d1",
   "metadata": {},
   "outputs": [
    {
     "name": "stdout",
     "output_type": "stream",
     "text": [
      "Equal!: 500 images\n"
     ]
    }
   ],
   "source": [
    "# Check if all the images have bounding boxes\n",
    "bbox_img_names = hs_img_bbox_df.image_name.drop_duplicates().to_list() \n",
    "\n",
    "compare_two_img_lists(hs_img_names, bbox_img_names)"
   ]
  },
  {
   "cell_type": "code",
   "execution_count": 13,
   "id": "5fea8e73",
   "metadata": {},
   "outputs": [
    {
     "data": {
      "text/html": [
       "<div>\n",
       "<style scoped>\n",
       "    .dataframe tbody tr th:only-of-type {\n",
       "        vertical-align: middle;\n",
       "    }\n",
       "\n",
       "    .dataframe tbody tr th {\n",
       "        vertical-align: top;\n",
       "    }\n",
       "\n",
       "    .dataframe thead th {\n",
       "        text-align: right;\n",
       "    }\n",
       "</style>\n",
       "<table border=\"1\" class=\"dataframe\">\n",
       "  <thead>\n",
       "    <tr style=\"text-align: right;\">\n",
       "      <th></th>\n",
       "      <th>Name</th>\n",
       "      <th>Number_HSparrows</th>\n",
       "      <th>Number_Bboxes</th>\n",
       "    </tr>\n",
       "  </thead>\n",
       "  <tbody>\n",
       "    <tr>\n",
       "      <th>0</th>\n",
       "      <td>51028450922_6e5c22a557_w.jpg</td>\n",
       "      <td>1</td>\n",
       "      <td>1</td>\n",
       "    </tr>\n",
       "    <tr>\n",
       "      <th>1</th>\n",
       "      <td>50582637617_025db80280_w.jpg</td>\n",
       "      <td>1</td>\n",
       "      <td>1</td>\n",
       "    </tr>\n",
       "    <tr>\n",
       "      <th>2</th>\n",
       "      <td>51629116862_45cc557dcd_w.jpg</td>\n",
       "      <td>1</td>\n",
       "      <td>1</td>\n",
       "    </tr>\n",
       "    <tr>\n",
       "      <th>3</th>\n",
       "      <td>51326420290_5596ceb008_w.jpg</td>\n",
       "      <td>1</td>\n",
       "      <td>1</td>\n",
       "    </tr>\n",
       "    <tr>\n",
       "      <th>4</th>\n",
       "      <td>51571836216_f2f22feed1_e.jpg</td>\n",
       "      <td>2</td>\n",
       "      <td>2</td>\n",
       "    </tr>\n",
       "  </tbody>\n",
       "</table>\n",
       "</div>"
      ],
      "text/plain": [
       "                           Name  Number_HSparrows  Number_Bboxes\n",
       "0  51028450922_6e5c22a557_w.jpg                 1              1\n",
       "1  50582637617_025db80280_w.jpg                 1              1\n",
       "2  51629116862_45cc557dcd_w.jpg                 1              1\n",
       "3  51326420290_5596ceb008_w.jpg                 1              1\n",
       "4  51571836216_f2f22feed1_e.jpg                 2              2"
      ]
     },
     "execution_count": 13,
     "metadata": {},
     "output_type": "execute_result"
    }
   ],
   "source": [
    "bbox_number_df = (\n",
    "    hs_img_bbox_df['image_name'].value_counts()\n",
    "                                .reset_index()\n",
    "                                .rename(columns={'index': 'Name', \n",
    "                                                 'image_name': 'Number_Bboxes'}))\n",
    "                                                 \n",
    "hs_bbox_number_df = (hs_img_info_df[['Name', 'Number_HSparrows']]\n",
    "                         .merge(bbox_number_df, on='Name', how='outer'))\n",
    "\n",
    "del bbox_number_df\n",
    "\n",
    "hs_bbox_number_df.head()\n"
   ]
  },
  {
   "cell_type": "code",
   "execution_count": 14,
   "id": "dc98b106",
   "metadata": {},
   "outputs": [
    {
     "data": {
      "text/plain": [
       "0"
      ]
     },
     "execution_count": 14,
     "metadata": {},
     "output_type": "execute_result"
    }
   ],
   "source": [
    "# Check if the number of house sparrows and the number of bounding boxes in the images match\n",
    "hs_bbox_number_df[hs_bbox_number_df['Number_HSparrows'] != hs_bbox_number_df['Number_Bboxes']].shape[0]"
   ]
  },
  {
   "cell_type": "code",
   "execution_count": 15,
   "id": "3bd44823",
   "metadata": {},
   "outputs": [],
   "source": [
    "# # Uncomment to display images with bounding boxes\n",
    "\n",
    "# for img_name in hs_img_names[:10]:\n",
    "#     img_df = hs_img_bbox_df[hs_img_bbox_df.image_name == img_name]\n",
    "#     img = cv2.imread(os.path.join(IMG_PATH, img_name))\n",
    "    \n",
    "#     # Draw bounding box rectangles on images\n",
    "#     for x, y, w, h in img_df[['bbox_x', 'bbox_y', 'bbox_width', 'bbox_height']].values:\n",
    "#         img = cv2.rectangle(img, (x, y), (x + w, y + h), color=(0, 0, 255), thickness=2)\n",
    "\n",
    "#     cv2.putText(img, img_name, org=(0, 25), \n",
    "#                 fontFace=cv2.FONT_HERSHEY_PLAIN, fontScale=2, \n",
    "#                 color=(0, 69, 255), thickness = 2)\n",
    "#     window_name = 'House Sparrows'\n",
    "#     cv2.namedWindow(window_name, cv2.WINDOW_NORMAL)\n",
    "#     cv2.moveWindow(window_name, 200, 0)\n",
    "#     cv2.resizeWindow(window_name, 900, 700)\n",
    "#     cv2.imshow(window_name, img)\n",
    "    \n",
    "#     k = cv2.waitKey(120000)\n",
    "#     # Close all of the image windows by pressing the ESC key on a keyboard \n",
    "#     # or the X button on an open window\n",
    "#     if k == 27:\n",
    "#         print(\"The ESC key was pressed.\")\n",
    "#         break\n",
    "#     elif not cv2.getWindowProperty('House Sparrows', cv2.WND_PROP_VISIBLE):\n",
    "#         print(\"The X button was pressed on the window.\")\n",
    "#         break\n",
    "    \n",
    "# cv2.destroyAllWindows()\n",
    "# print(\"All of the image windows are closed.\")"
   ]
  },
  {
   "cell_type": "markdown",
   "id": "8f8b6482",
   "metadata": {},
   "source": [
    "## 4. EDA"
   ]
  },
  {
   "cell_type": "markdown",
   "id": "75c0b595",
   "metadata": {},
   "source": [
    "First, we will split our data into training and testing sets. At the same time, in order to prevent the presence of similar images in both of the sets, we will take into account the groups of authors, and we will also try to preserve the distribution of the number of house sparrows by specifying it as classes."
   ]
  },
  {
   "cell_type": "code",
   "execution_count": 16,
   "id": "494a2e5b",
   "metadata": {},
   "outputs": [
    {
     "name": "stdout",
     "output_type": "stream",
     "text": [
      "Test size: 25.0%\n"
     ]
    }
   ],
   "source": [
    "# Split image indexes into train and test ones\n",
    "# by groups of authors and the number of house sparrows as classes\n",
    "split = StratifiedGroupKFold(n_splits=5, shuffle=True, random_state=0)\n",
    "train_ids, test_ids = next(split.split(X=hs_img_info_df['Name'], \n",
    "                                       y=hs_img_info_df['Number_HSparrows'], \n",
    "                                       groups=hs_img_info_df['Author']))\n",
    "print(f'Test size: {(len(test_ids)/(len(train_ids) + len(test_ids))):0.1%}')"
   ]
  },
  {
   "cell_type": "code",
   "execution_count": 17,
   "id": "ba85f2a2",
   "metadata": {},
   "outputs": [
    {
     "name": "stdout",
     "output_type": "stream",
     "text": [
      "Train Dataset Shape: (375, 9)\n",
      "Test Dataset Shape: (125, 9)\n"
     ]
    }
   ],
   "source": [
    "# Create training and testing datasets\n",
    "hs_train_test_df= []\n",
    "sel_columns = hs_img_bbox_df.columns[3:]\n",
    "\n",
    "for idx in (train_ids, test_ids): \n",
    "    # Average the bbox data by their number in one image\n",
    "    avg_bbox_df = (hs_img_bbox_df.loc[hs_img_bbox_df.image_name.isin(hs_img_info_df.Name[idx]), sel_columns]\n",
    "                       .groupby('image_name')\n",
    "                       .agg('mean')\n",
    "                       .round()\n",
    "                       .reset_index()\n",
    "                       .rename(columns={'image_name': 'Name',\n",
    "                                        'bbox_width': 'avg_bbox_width',\n",
    "                                        'bbox_height': 'avg_bbox_height'}))\n",
    "    merge_df = hs_img_info_df.iloc[idx].merge(avg_bbox_df, on='Name', how='left')\n",
    "    hs_train_test_df.append(merge_df)\n",
    "\n",
    "hs_train_df, hs_test_df = hs_train_test_df\n",
    "\n",
    "del hs_train_test_df\n",
    "\n",
    "print(f\"Train Dataset Shape: {hs_train_df.shape}\")\n",
    "print(f\"Test Dataset Shape: {hs_test_df.shape}\")"
   ]
  },
  {
   "cell_type": "code",
   "execution_count": 18,
   "id": "e46d0e54",
   "metadata": {},
   "outputs": [],
   "source": [
    "def draw_series_barplot(series, x_label=\"\", y_label=\"\", title=\"\"):\n",
    "    \"\"\"Draw a bar plot from pd.Series.\"\"\"\n",
    "    fig, ax = plt.subplots(figsize=(14, 6))\n",
    "\n",
    "    series.plot.bar(ax=ax, edgecolor='#1B6FA6',\n",
    "                    linewidth=2, width=0.5, rot=0)\n",
    "    \n",
    "    ax.xaxis.grid(False)\n",
    "    plt.xlabel(x_label)\n",
    "    plt.ylabel(y_label)\n",
    "    plt.title(title)\n",
    "    plt.show()"
   ]
  },
  {
   "cell_type": "code",
   "execution_count": 19,
   "id": "8365fe5d",
   "metadata": {},
   "outputs": [],
   "source": [
    "# Set general plot parameters\n",
    "sns.set_theme(style='whitegrid')\n",
    "sns.set_palette(['#2980B9'])"
   ]
  },
  {
   "cell_type": "code",
   "execution_count": 20,
   "id": "5ab82aff",
   "metadata": {},
   "outputs": [
    {
     "data": {
      "image/png": "[encoded data removed]",
      "text/plain": [
       "<Figure size 1400x600 with 1 Axes>"
      ]
     },
     "metadata": {},
     "output_type": "display_data"
    }
   ],
   "source": [
    "# Draw a bar set to show the number of house sparrows in the train images\n",
    "draw_series_barplot(hs_train_df['Number_HSparrows'].value_counts(), \n",
    "                    x_label=\"Number of house sparrows\", \n",
    "                    y_label=\"Number of images\", \n",
    "                    title=\"House Sparrow Distribution (train)\")"
   ]
  },
  {
   "cell_type": "code",
   "execution_count": 21,
   "id": "0e9f83f6",
   "metadata": {},
   "outputs": [
    {
     "data": {
      "image/png": "[encoded data removed]",
      "text/plain": [
       "<Figure size 1400x600 with 1 Axes>"
      ]
     },
     "metadata": {},
     "output_type": "display_data"
    }
   ],
   "source": [
    "# Draw a bar set to show distribution of the train images by authors\n",
    "draw_series_barplot(hs_train_df['Author'].value_counts().value_counts(), \n",
    "                    x_label=\"Number of images\", \n",
    "                    y_label=\"Number of authors\", \n",
    "                    title=\"Train Image Distribution by Authors\")"
   ]
  },
  {
   "cell_type": "code",
   "execution_count": 22,
   "id": "6e6d8cbe",
   "metadata": {},
   "outputs": [
    {
     "data": {
      "image/png": "[encoded data removed]",
      "text/plain": [
       "<Figure size 1200x500 with 2 Axes>"
      ]
     },
     "metadata": {},
     "output_type": "display_data"
    }
   ],
   "source": [
    "fig, axs = plt.subplots(1, 2, figsize=(12, 5))\n",
    "axs.flatten()\n",
    "\n",
    "# Draw scatter plots to show prevailing image and average bbox sizes \n",
    "# in the train dataset\n",
    "for ax, elem in zip(axs, ('image', 'avg_bbox')):\n",
    "    title = \"Train Image Sizes\"\n",
    "\n",
    "    if elem == 'avg_bbox':\n",
    "        title = \"Average Train Bbox (House Sparrow) Sizes\"\n",
    "\n",
    "    _ = (sns.scatterplot(x=elem + '_width', y=elem + '_height', \n",
    "                         data=hs_train_df, ax=ax)\n",
    "            .set_title(title))"
   ]
  },
  {
   "cell_type": "code",
   "execution_count": 23,
   "id": "f42b2554",
   "metadata": {},
   "outputs": [
    {
     "name": "stdout",
     "output_type": "stream",
     "text": [
      "Total House Sparrows:  970\n"
     ]
    }
   ],
   "source": [
    "print(\"Total House Sparrows: \", hs_train_df['Number_HSparrows'].sum())"
   ]
  },
  {
   "cell_type": "code",
   "execution_count": null,
   "id": "1884688b",
   "metadata": {},
   "outputs": [],
   "source": [
    "# # Uncomment to display one of the train images (with and without bounding boxes)\n",
    "# fig, (ax1, ax2) = plt.subplots(1, 2, figsize=(14, 6))\n",
    "\n",
    "# img_sample_df = hs_train_df[['Name', 'Author', 'Source']].sample(1).squeeze()\n",
    "# img_sample_name = img_sample_df['Name']\n",
    "# img_sample = plt.imread(os.path.join(IMG_PATH, img_sample_name))\n",
    "# ax1.imshow(img_sample)\n",
    "# ax1.axis('off')\n",
    "\n",
    "# rec_df = (hs_img_bbox_df.loc[hs_img_bbox_df['image_name'] == img_sample_name, \n",
    "#                             ['bbox_x', 'bbox_y', 'bbox_width', 'bbox_height']].values)\n",
    "\n",
    "# # Draw bounding box rectangles on the image\n",
    "# for x, y, w, h in rec_df:\n",
    "#     img_sample = cv2.rectangle(img_sample, (x, y), (x + w, y + h), \n",
    "#                                color=(255, 0, 0), thickness=2)\n",
    "\n",
    "# ax2.imshow(img_sample)\n",
    "# ax2.axis('off')\n",
    "# print(\"Photo {0} on {1}\".format(img_sample_df['Author'], img_sample_df['Source']))\n",
    "# plt.show()"
   ]
  },
  {
   "cell_type": "code",
   "execution_count": 25,
   "id": "85f921dc",
   "metadata": {},
   "outputs": [],
   "source": [
    "# # Uncomment to save the training and testing datasets\n",
    "# save_data_path = os.path.join(DATA_PATH, 'prepared')\n",
    "\n",
    "# if not os.path.isdir(save_data_path):\n",
    "#     os.makedirs(save_data_path)\n",
    "\n",
    "# for df, save_name in zip((hs_train_df, hs_test_df), ('train.csv', 'test.csv')):\n",
    "#     df.to_csv(os.path.join(save_data_path, save_name), index=False)"
   ]
  }
 ],
 "metadata": {
  "kernelspec": {
   "display_name": "Python 3.9.13 ('env': venv)",
   "language": "python",
   "name": "python3"
  },
  "language_info": {
   "codemirror_mode": {
    "name": "ipython",
    "version": 3
   },
   "file_extension": ".py",
   "mimetype": "text/x-python",
   "name": "python",
   "nbconvert_exporter": "python",
   "pygments_lexer": "ipython3",
   "version": "3.9.13"
  },
  "vscode": {
   "interpreter": {
    "hash": "b2ab1ef63cc1d0e1338c1d8132759d9e4f4760c8169058413a208056ba3b8064"
   }
  }
 },
 "nbformat": 4,
 "nbformat_minor": 5
}
