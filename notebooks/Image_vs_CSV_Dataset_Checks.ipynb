{
 "cells": [
  {
   "cell_type": "markdown",
   "id": "1289b618",
   "metadata": {},
   "source": [
    "## 1. Setup"
   ]
  },
  {
   "cell_type": "code",
   "execution_count": null,
   "id": "58668cc9",
   "metadata": {},
   "outputs": [],
   "source": [
    "import os\n",
    "\n",
    "import numpy as np\n",
    "import pandas as pd"
   ]
  },
  {
   "cell_type": "code",
   "execution_count": null,
   "id": "0d98359a",
   "metadata": {},
   "outputs": [],
   "source": [
    "DATA_PATH = '../data/'\n",
    "RAW_DATA_PATH = os.path.join(DATA_PATH, 'raw')\n",
    "IMG_PATH = os.path.join(RAW_DATA_PATH, 'images')\n",
    "\n",
    "INFO_CSV_DATA_FILE = 'image_info.csv'\n",
    "BBOX_CSV_DATA_FILE = 'bboxes/bounding_boxes.csv'"
   ]
  },
  {
   "cell_type": "code",
   "execution_count": null,
   "id": "54900ef1",
   "metadata": {},
   "outputs": [],
   "source": [
    "# Load a dataset with image information\n",
    "img_info_df = pd.read_csv(os.path.join(RAW_DATA_PATH, INFO_CSV_DATA_FILE))"
   ]
  },
  {
   "cell_type": "code",
   "execution_count": null,
   "id": "d5d84a2e",
   "metadata": {},
   "outputs": [],
   "source": [
    "# Load a bounding box dataset\n",
    "img_bbox_df = pd.read_csv(os.path.join(RAW_DATA_PATH, BBOX_CSV_DATA_FILE))"
   ]
  },
  {
   "cell_type": "code",
   "execution_count": null,
   "id": "67727688",
   "metadata": {},
   "outputs": [],
   "source": [
    "# Get a list of image names\n",
    "img_names = os.listdir(IMG_PATH)"
   ]
  },
  {
   "cell_type": "code",
   "execution_count": null,
   "id": "f14fad9f",
   "metadata": {},
   "outputs": [],
   "source": [
    "# Create a dict of validation results for summary report\n",
    "validation_results = {}"
   ]
  },
  {
   "cell_type": "markdown",
   "id": "6df3c009",
   "metadata": {},
   "source": [
    "## 2. Create help functions"
   ]
  },
  {
   "cell_type": "code",
   "execution_count": null,
   "id": "919f3ffc",
   "metadata": {},
   "outputs": [],
   "source": [
    "def check_that_two_sorted_lists_are_equal(l1, l2, passed_message=''):\n",
    "    \"\"\"Return a dictionary of the validation status with a list \n",
    "    of non-matching elements or the number of duplicates, if any.\"\"\"\n",
    "    l1 = sorted(l1)\n",
    "    l2 = sorted(l2)\n",
    "    \n",
    "    if l1 == l2:\n",
    "        return {'PASSED': passed_message}\n",
    "    elif (len(set(l1)) != len(l1)) or (len(set(l2)) != len(l2)):\n",
    "        return {'WARNING: Duplicates!': len(l1 + l2) - len(set(l1)) - len(set(l2))}\n",
    "    else:        \n",
    "        not_match = list(set(l1) ^ set(l2))\n",
    "        return {'FAILED': not_match}"
   ]
  },
  {
   "cell_type": "code",
   "execution_count": null,
   "id": "feb3cc83",
   "metadata": {},
   "outputs": [],
   "source": [
    "def check_that_series_is_less_than_or_equal_to(s1, other, comparison_sign, passed_message=''):\n",
    "    \"\"\"Return a dictionary of the validation status with indices with incorrect values, if any.\n",
    "    \n",
    "    Parameters:\n",
    "        s1 (pd.Series): a object to be compared\n",
    "        other (pd.Series or scalar value): a object to compare\n",
    "        comparison_sign (str): must be one of '==', '<='. Otherwise raises ValueError.\n",
    "        passed_message (str): a message that describes a passage of the check\n",
    "    \"\"\"  \n",
    "    comp_series_result = 0\n",
    "\n",
    "    if comparison_sign == '==':\n",
    "        comp_series_result  = s1.eq(other)\n",
    "    elif comparison_sign == '<=':\n",
    "        comp_series_result  = s1.le(other) \n",
    "    else:\n",
    "        raise ValueError()       \n",
    "\n",
    "    if comp_series_result.sum() == s1.shape[0]:\n",
    "        return {'PASSED': passed_message}\n",
    "    else:\n",
    "        return {'FAILED': s1[~comp_series_result].index}"
   ]
  },
  {
   "cell_type": "markdown",
   "id": "21221335",
   "metadata": {},
   "source": [
    "## 3. Check Data Consistency"
   ]
  },
  {
   "cell_type": "markdown",
   "id": "f356f2de",
   "metadata": {},
   "source": [
    "### 3.1. images vs image_info.csv"
   ]
  },
  {
   "cell_type": "code",
   "execution_count": null,
   "id": "b8b6556d",
   "metadata": {},
   "outputs": [],
   "source": [
    "# Check whether the names of the available images are identical to the names in image_info.csv\n",
    "validation_results[\"Image Name Match Check: \" + INFO_CSV_DATA_FILE] = check_that_two_sorted_lists_are_equal(\n",
    "    img_info_df.Name.to_list(), \n",
    "    img_names,\n",
    "    passed_message=\"The image names in the file correspond to the available images.\"\n",
    ")"
   ]
  },
  {
   "cell_type": "markdown",
   "id": "0e8a54f6",
   "metadata": {},
   "source": [
    "### 3.2. bounding_boxes.csv"
   ]
  },
  {
   "cell_type": "code",
   "execution_count": null,
   "id": "3763c3b1",
   "metadata": {},
   "outputs": [],
   "source": [
    "# Check the correctness of bounding box parameters\n",
    "for bb_param, img_param in [('bbox_x', 'width'), \n",
    "                            ('bbox_y', 'height')]:\n",
    "    \n",
    "    for add_bb_param in ('', 'bbox_' + img_param):\n",
    "        add_values = 0\n",
    "        img_name_param = 'image_' + img_param\n",
    "        check_param_name = bb_param        \n",
    "\n",
    "        if add_bb_param:\n",
    "            add_values = img_bbox_df[add_bb_param]\n",
    "            check_param_name = ' + '.join([check_param_name, add_bb_param])\n",
    "\n",
    "        comp_bbox_img_param_result = check_that_series_is_less_than_or_equal_to(\n",
    "                                         img_bbox_df[bb_param].add(add_values), \n",
    "                                         img_bbox_df[img_name_param], '<=', \n",
    "                                         passed_message=f\"Correct: ({check_param_name}) <= {img_name_param}.\") \n",
    "        check_name = f\"Bbox Parameter Correctness Check: \" + check_param_name  \n",
    "        validation_results[check_name] = comp_bbox_img_param_result"
   ]
  },
  {
   "cell_type": "code",
   "execution_count": null,
   "id": "265828cc",
   "metadata": {},
   "outputs": [],
   "source": [
    "# Check the correctness of image parameters\n",
    "uniq_img_param_df = (img_bbox_df[['image_name', 'image_width', 'image_height']]\n",
    "                         .groupby('image_name', group_keys=True)\n",
    "                         .nunique())\n",
    "\n",
    "for img_param in ('image_width', 'image_height'):\n",
    "    validation_results[f\"Image Parameter Correctness Check: \" + img_param] = check_that_series_is_less_than_or_equal_to(\n",
    "        uniq_img_param_df[img_param], 1, '==',\n",
    "        passed_message=\"One unique value for each image.\")"
   ]
  },
  {
   "cell_type": "markdown",
   "id": "1781a27f",
   "metadata": {},
   "source": [
    "### 3.3. images vs bounding_boxes.csv"
   ]
  },
  {
   "cell_type": "code",
   "execution_count": null,
   "id": "68208ff0",
   "metadata": {},
   "outputs": [],
   "source": [
    "# Check whether the names of the available images are identical to the names in bounding_boxes.csv\n",
    "validation_results[\"Image Name Match Check: \" + BBOX_CSV_DATA_FILE] = check_that_two_sorted_lists_are_equal(\n",
    "    img_bbox_df.image_name.unique(), \n",
    "    img_names,\n",
    "    passed_message=\"The image names in the file correspond to the available images.\"\n",
    ")"
   ]
  },
  {
   "cell_type": "markdown",
   "id": "be031406",
   "metadata": {},
   "source": [
    "### 3.4. image_info.csv vs bounding_boxes.csv"
   ]
  },
  {
   "cell_type": "code",
   "execution_count": null,
   "id": "234e605a",
   "metadata": {},
   "outputs": [],
   "source": [
    "# Check if the number of house sparrows and the number of bounding boxes match\n",
    "number_hsparrows = (img_info_df[['Name', 'Number_HSparrows']].sort_values(by='Name')\n",
    "                                                             .set_index('Name')\n",
    "                                                             .squeeze())\n",
    "number_bboxes = img_bbox_df['image_name'].sort_values().value_counts(sort=False)\n",
    "\n",
    "validation_results[\"Number Match Check: Number_HSparrows vs image_name\"] = check_that_series_is_less_than_or_equal_to(\n",
    "    number_hsparrows, number_bboxes, '==', passed_message=\"The numbers match.\")"
   ]
  },
  {
   "cell_type": "markdown",
   "id": "d987d4a2",
   "metadata": {},
   "source": [
    "## 4. Summury Report"
   ]
  },
  {
   "cell_type": "code",
   "execution_count": null,
   "id": "c23f18c7",
   "metadata": {},
   "outputs": [],
   "source": [
    "validation_results"
   ]
  },
  {
   "cell_type": "code",
   "execution_count": null,
   "id": "13f06f0d",
   "metadata": {},
   "outputs": [],
   "source": [
    "# Show the result of the failed check\n",
    "failed_check_result = img_bbox_df[['image_name', 'bbox_x', 'bbox_width', 'image_width']].iloc[565]\n",
    "\n",
    "failed_check_result"
   ]
  }
 ],
 "metadata": {
  "kernelspec": {
   "display_name": "Python 3.9.13 ('env': venv)",
   "language": "python",
   "name": "python3"
  },
  "language_info": {
   "codemirror_mode": {
    "name": "ipython",
    "version": 3
   },
   "file_extension": ".py",
   "mimetype": "text/x-python",
   "name": "python",
   "nbconvert_exporter": "python",
   "pygments_lexer": "ipython3",
   "version": "3.9.13"
  },
  "vscode": {
   "interpreter": {
    "hash": "b2ab1ef63cc1d0e1338c1d8132759d9e4f4760c8169058413a208056ba3b8064"
   }
  }
 },
 "nbformat": 4,
 "nbformat_minor": 5
}
